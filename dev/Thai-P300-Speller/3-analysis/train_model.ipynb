{
 "cells": [
  {
   "cell_type": "code",
   "execution_count": 1,
   "metadata": {},
   "outputs": [],
   "source": [
    "import sys\n",
    "# insert at 1, 0 is the script path (or '' in REPL)\n",
    "# sys.path.insert(1, '/home/chaklam/bci_project/BCI/P300/utils')\n",
    "\n",
    "import pandas as pd\n",
    "import numpy as np\n",
    "import pickle\n",
    "\n",
    "import mne\n",
    "from mne.time_frequency import psd_welch\n",
    "\n",
    "# import helper as helper #custom\n",
    "\n",
    "# visualization stuff\n",
    "%matplotlib inline \n",
    "import matplotlib.pyplot as plt\n",
    "plt.rcParams.update({'figure.max_open_warning': 0})\n",
    "import seaborn as sns"
   ]
  },
  {
   "cell_type": "code",
   "execution_count": 2,
   "metadata": {},
   "outputs": [],
   "source": [
    "X = np.load('../th_data/X_cb_sit.npy')\n",
    "y = np.load('../th_data/y_cb_sit.npy')"
   ]
  },
  {
   "cell_type": "code",
   "execution_count": 3,
   "metadata": {},
   "outputs": [
    {
     "name": "stderr",
     "output_type": "stream",
     "text": [
      "/home/chanapa/bci_env/lib/python3.8/site-packages/sklearn/utils/deprecation.py:144: FutureWarning: The sklearn.cluster.k_means_ module is  deprecated in version 0.22 and will be removed in version 0.24. The corresponding classes / functions should instead be imported from sklearn.cluster. Anything that cannot be imported from sklearn.cluster is now part of the private API.\n",
      "  warnings.warn(message, FutureWarning)\n",
      "/home/chanapa/bci_env/lib/python3.8/site-packages/sklearn/externals/joblib/__init__.py:15: FutureWarning: sklearn.externals.joblib is deprecated in 0.21 and will be removed in 0.23. Please import this functionality directly from joblib, which can be installed with: pip install joblib. If this warning is raised when loading pickled models, you may need to re-serialize those models with scikit-learn 0.21+.\n",
      "  warnings.warn(msg, category=FutureWarning)\n"
     ]
    },
    {
     "name": "stdout",
     "output_type": "stream",
     "text": [
      "Saved ERP + TS Model !\n",
      "              precision    recall  f1-score   support\n",
      "\n",
      "  Non-target       0.95      0.99      0.97      3960\n",
      "     targets       0.71      0.39      0.50       360\n",
      "\n",
      "    accuracy                           0.94      4320\n",
      "   macro avg       0.83      0.69      0.73      4320\n",
      "weighted avg       0.93      0.94      0.93      4320\n",
      "\n",
      "Saved ERP + MDM Model !\n",
      "              precision    recall  f1-score   support\n",
      "\n",
      "  Non-target       0.98      0.80      0.88      3960\n",
      "     targets       0.27      0.78      0.40       360\n",
      "\n",
      "    accuracy                           0.80      4320\n",
      "   macro avg       0.62      0.79      0.64      4320\n",
      "weighted avg       0.92      0.80      0.84      4320\n",
      "\n",
      "Saved Xdawn + RegLDA Model !\n",
      "              precision    recall  f1-score   support\n",
      "\n",
      "  Non-target       0.95      0.98      0.96      3960\n",
      "     targets       0.64      0.47      0.54       360\n",
      "\n",
      "    accuracy                           0.93      4320\n",
      "   macro avg       0.80      0.72      0.75      4320\n",
      "weighted avg       0.93      0.93      0.93      4320\n",
      "\n",
      "Saved Xdawn + MDM Model !\n",
      "              precision    recall  f1-score   support\n",
      "\n",
      "  Non-target       0.98      0.82      0.89      3960\n",
      "     targets       0.29      0.81      0.43       360\n",
      "\n",
      "    accuracy                           0.82      4320\n",
      "   macro avg       0.63      0.81      0.66      4320\n",
      "weighted avg       0.92      0.82      0.85      4320\n",
      "\n"
     ]
    },
    {
     "data": {
      "image/png": "[encoded data removed]",
      "text/plain": [
       "<Figure size 576x288 with 1 Axes>"
      ]
     },
     "metadata": {
      "needs_background": "light"
     },
     "output_type": "display_data"
    }
   ],
   "source": [
    "from sklearn.discriminant_analysis import LinearDiscriminantAnalysis as LDA\n",
    "from sklearn.model_selection import StratifiedKFold\n",
    "from sklearn.linear_model import LogisticRegression\n",
    "from sklearn.preprocessing import MinMaxScaler\n",
    "from mne.preprocessing import Xdawn\n",
    "from pyriemann.estimation import ERPCovariances\n",
    "from collections import OrderedDict\n",
    "from pyriemann.tangentspace import TangentSpace\n",
    "from pyriemann.classification import MDM\n",
    "from pyriemann.estimation import XdawnCovariances\n",
    "\n",
    "from sklearn.metrics import classification_report\n",
    "\n",
    "\n",
    "from mne.decoding import Vectorizer\n",
    "from sklearn.model_selection import cross_val_score, StratifiedShuffleSplit\n",
    "from sklearn.pipeline import make_pipeline\n",
    "\n",
    "lda = LDA(shrinkage='auto', solver='eigen') #Regularized LDA\n",
    "lr = LogisticRegression(penalty='l1', solver='liblinear',\n",
    "                                       multi_class='auto')\n",
    "\n",
    "clfs = OrderedDict()\n",
    "\n",
    "n_components = 3\n",
    "\n",
    "clfs['ERP + TS']= make_pipeline(ERPCovariances(estimator='oas'), TangentSpace(), LogisticRegression())\n",
    "clfs['ERP + MDM'] = make_pipeline(ERPCovariances(estimator='oas'), MDM())\n",
    "clfs['Xdawn + RegLDA'] = make_pipeline(XdawnCovariances(n_components, \n",
    "                            estimator='oas'), Vectorizer(), lda)\n",
    "clfs['Xdawn + MDM'] = make_pipeline(XdawnCovariances(n_components,\n",
    "                            estimator='oas'), MDM())\n",
    "\n",
    "# Cross validator\n",
    "cv = StratifiedKFold(n_splits=15, shuffle=True, random_state=42)\n",
    "\n",
    "for clf in clfs:\n",
    "    # Do cross-validation\n",
    "    preds = np.empty(len(y))\n",
    "    for train, test in cv.split(X, y):  #Xdawn takes in epoch object\n",
    "        clfs[clf].fit(X[train], y[train])\n",
    "        preds[test] = clfs[clf].predict(X[test])\n",
    "\n",
    "    # Classification report\n",
    "    target_names = ['Non-target', 'targets']\n",
    "    report = classification_report(y, preds, target_names=target_names)\n",
    "    \n",
    "    # Save to file in the current working directory\n",
    "    pkl_filename = f\"sit_{clf}_cb_model.pkl\"\n",
    "    with open(pkl_filename, 'wb') as file:\n",
    "        pickle.dump(clfs[clf], file)\n",
    "        \n",
    "    print(f\"Saved {clf} Model !\")\n",
    "    print(report)\n",
    "    \n",
    "# measure auc\n",
    "auc = []\n",
    "methods = []\n",
    "for m in clfs:\n",
    "    res = cross_val_score(clfs[m], X, y, scoring='roc_auc', cv=cv, n_jobs=-1)\n",
    "    auc.extend(res)\n",
    "    methods.extend([m]*len(res))\n",
    "    \n",
    "results = pd.DataFrame(data=auc, columns=['AUC'])\n",
    "results['Method'] = methods\n",
    "\n",
    "plt.figure(figsize=[8,4])\n",
    "sns.barplot(data=results, x='AUC', y='Method')\n",
    "plt.xlim(0.2, 1)\n",
    "sns.despine()"
   ]
  },
  {
   "cell_type": "code",
   "execution_count": 4,
   "metadata": {},
   "outputs": [],
   "source": [
    "# # Load from file\n",
    "    # with open(pkl_filename, 'rb') as file:\n",
    "    #     pickle_model = pickle.load(file)"
   ]
  }
 ],
 "metadata": {
  "kernelspec": {
   "display_name": "bci_env",
   "language": "python",
   "name": "bci_env"
  },
  "language_info": {
   "codemirror_mode": {
    "name": "ipython",
    "version": 3
   },
   "file_extension": ".py",
   "mimetype": "text/x-python",
   "name": "python",
   "nbconvert_exporter": "python",
   "pygments_lexer": "ipython3",
   "version": "3.8.10"
  }
 },
 "nbformat": 4,
 "nbformat_minor": 4
}
